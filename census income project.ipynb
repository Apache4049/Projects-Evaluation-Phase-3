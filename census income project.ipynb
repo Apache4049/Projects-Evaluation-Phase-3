{
 "cells": [
  {
   "cell_type": "code",
   "execution_count": null,
   "id": "4a7e6e7b-e5cf-4120-9967-d205fea3bd6b",
   "metadata": {},
   "outputs": [],
   "source": [
    "import pandas as pd \n",
    "import numpy as np \n",
    "import seaborn as sns \n",
    "import matplotlib.pyplot as plt \n",
    "%matplotlib inline\n",
    "import warnings \n",
    "warnings.filterwarnings('ignore')"
   ]
  },
  {
   "cell_type": "code",
   "execution_count": null,
   "id": "105a23ea-3ab2-4997-b36d-0b04cc2d06dc",
   "metadata": {},
   "outputs": [],
   "source": [
    "df=pd.read_csv('census_income.csv')"
   ]
  },
  {
   "cell_type": "code",
   "execution_count": null,
   "id": "4ecaa1e4-701f-48d7-bfc1-cfabf4c87f48",
   "metadata": {},
   "outputs": [],
   "source": [
    "print('No of Rows:',df.shape[0])\n",
    "print('No of Columns:',df.shape[1])\n",
    "df.head()"
   ]
  },
  {
   "cell_type": "code",
   "execution_count": null,
   "id": "8c879aea-8231-4bc2-b46d-7337e03c265a",
   "metadata": {},
   "outputs": [],
   "source": [
    "df.columns"
   ]
  },
  {
   "cell_type": "code",
   "execution_count": null,
   "id": "512703ee-234b-4271-bd49-9273f3ed085e",
   "metadata": {},
   "outputs": [],
   "source": [
    "df.duplicated().sum()"
   ]
  },
  {
   "cell_type": "code",
   "execution_count": null,
   "id": "fd9e52cc-67d0-44d4-93cd-2235ff86fa8c",
   "metadata": {},
   "outputs": [],
   "source": [
    "df.isin([' ?']).sum()\n"
   ]
  },
  {
   "cell_type": "code",
   "execution_count": null,
   "id": "d6255b73-8ed8-43ff-9d4e-922fd1ba1edf",
   "metadata": {},
   "outputs": [],
   "source": [
    "df=df.replace(' ?',np.NaN)"
   ]
  },
  {
   "cell_type": "code",
   "execution_count": null,
   "id": "9092f4c0-91fd-421a-a6d1-0bc00ad161b4",
   "metadata": {},
   "outputs": [],
   "source": [
    "df.isin([' ','NA','-']).sum().any()"
   ]
  },
  {
   "cell_type": "code",
   "execution_count": null,
   "id": "9668784a-1a83-48e3-b359-98e7c25504e5",
   "metadata": {},
   "outputs": [],
   "source": [
    "df.drop_duplicates(keep='last', inplace=True)"
   ]
  },
  {
   "cell_type": "code",
   "execution_count": null,
   "id": "7951ffbc-7a4a-4eb2-ab28-fa6105179be0",
   "metadata": {},
   "outputs": [],
   "source": [
    "df.shape"
   ]
  },
  {
   "cell_type": "code",
   "execution_count": null,
   "id": "afbd29c8-141b-41a6-8be8-2d16d9e083ae",
   "metadata": {},
   "outputs": [],
   "source": [
    "plt.figure(figsize=(10,6))\n",
    "sns.heatmap(df.isnull())"
   ]
  },
  {
   "cell_type": "code",
   "execution_count": null,
   "id": "b11c47c3-ba82-4c5d-a600-9cea49b74456",
   "metadata": {},
   "outputs": [],
   "source": [
    "missing_values = df.isnull().sum().sort_values(ascending = False)\n",
    "percentage_missing_values =(missing_values/len(df))*100\n",
    "print(pd.concat([missing_values, percentage_missing_values], axis =1, keys =['Missing Values', '% Missing data']))"
   ]
  },
  {
   "cell_type": "code",
   "execution_count": null,
   "id": "b9fb314c-dddd-4477-9bd5-c0990a6d7cb4",
   "metadata": {},
   "outputs": [],
   "source": [
    "df.info()"
   ]
  },
  {
   "cell_type": "code",
   "execution_count": null,
   "id": "502be1f5-7ba0-4bfb-acc4-715be8330cc9",
   "metadata": {},
   "outputs": [],
   "source": [
    "Numerical=['Age','Fnlwgt','Education_num','Capital_gain','Capital_loss','Hours_per_week']\n",
    "Category=['Workclass','Education','Marital_status','Occupation','Relationship','Race','Sex','Native_country','Income']"
   ]
  },
  {
   "cell_type": "code",
   "execution_count": null,
   "id": "514d09d8-637f-4c9c-806b-2ca2925343dc",
   "metadata": {},
   "outputs": [],
   "source": [
    "df['Occupation'].fillna(df['Occupation'].mode()[0],inplace=True)\n",
    "df['Workclass'].fillna(df['Workclass'].mode()[0],inplace=True)\n",
    "df['Native_country'].fillna(df['Native_country'].mode()[0],inplace=True)"
   ]
  },
  {
   "cell_type": "code",
   "execution_count": null,
   "id": "5efc6dab-553b-46e2-8b51-cf836e8d0f99",
   "metadata": {},
   "outputs": [],
   "source": [
    "missing_values = df.isnull().sum().sort_values(ascending = False)\n",
    "percentage_missing_values =(missing_values/len(df))*100\n",
    "print(pd.concat([missing_values, percentage_missing_values], axis =1, keys =['Missing Values', '% Missing data']))"
   ]
  },
  {
   "cell_type": "code",
   "execution_count": null,
   "id": "7f63968f-e2ee-44ab-ac2b-ddb88f4b46ea",
   "metadata": {},
   "outputs": [],
   "source": [
    "plt.figure(figsize=(12,8))\n",
    "sns.heatmap(df.describe(),linewidths = 0.1,fmt='0.1f',annot = True,cmap='PiYG')"
   ]
  },
  {
   "cell_type": "code",
   "execution_count": null,
   "id": "ae86bbff-6d34-450d-84b0-614f275476a6",
   "metadata": {},
   "outputs": [],
   "source": [
    "df.describe().T"
   ]
  },
  {
   "cell_type": "code",
   "execution_count": null,
   "id": "e34d1f25-2730-4a31-819b-84da43333f3a",
   "metadata": {},
   "outputs": [],
   "source": [
    "for i in Category:\n",
    "    print(i)\n",
    "    print(df[i].value_counts())\n",
    "    print('='*100)"
   ]
  },
  {
   "cell_type": "code",
   "execution_count": null,
   "id": "8fa105eb-6632-4287-b10f-491b85f40dcf",
   "metadata": {},
   "outputs": [],
   "source": [
    "plt.rcParams[\"figure.autolayout\"] = True\n",
    "sns.set_palette('husl')\n",
    "f,ax=plt.subplots(1,2,figsize=(18,10))\n",
    "df['Income'].value_counts().plot.pie(explode=[0,0.1],autopct='%3.1f%%',\n",
    "                                          textprops ={ 'fontweight': 'bold','fontsize':18}, ax=ax[0],shadow=True)\n",
    "ax[0].set_title('Population Distribution', fontsize=22,fontweight ='bold')\n",
    "ax[0].set_ylabel('')\n",
    "sns.countplot('Income',data=df,ax=ax[1])\n",
    "ax[1].set_title('Income Distribution',fontsize=22,fontweight ='bold')\n",
    "ax[1].set_xlabel(\"Income\",fontsize=18,fontweight ='bold')\n",
    "plt.xticks(fontsize=18,fontweight ='bold')\n",
    "plt.show()"
   ]
  },
  {
   "cell_type": "code",
   "execution_count": null,
   "id": "d45b5e61-01ed-4780-a947-48847de3989d",
   "metadata": {},
   "outputs": [],
   "source": [
    "print('Minimum Age:', df['Age'].min(),'years')\n",
    "print('Maximum Age:', df['Age'].max(),'years')\n",
    "print('Average Age:', df['Age'].mean(),'years')"
   ]
  },
  {
   "cell_type": "code",
   "execution_count": null,
   "id": "22439847-888a-4588-a418-b7926445e961",
   "metadata": {},
   "outputs": [],
   "source": [
    "def age_group(x):\n",
    "    x = int(x)\n",
    "    x = abs(x)\n",
    "    if (18 < x < 31):\n",
    "        return \"19-30\"\n",
    "    if (30 < x < 41) :\n",
    "        return '31-40'\n",
    "    if (40 < x <51):\n",
    "        return '41-50'\n",
    "    if (50 < x < 61):\n",
    "        return \"51-60\"\n",
    "    if (60 < x < 71):\n",
    "        return \"61-70\"\n",
    "    else :\n",
    "        return 'Greater Than 70'"
   ]
  },
  {
   "cell_type": "code",
   "execution_count": null,
   "id": "dee748ee-ed09-4312-b404-6d5e69fee59a",
   "metadata": {},
   "outputs": [],
   "source": [
    "df['age_group']=df['Age'].apply(age_group)"
   ]
  },
  {
   "cell_type": "code",
   "execution_count": null,
   "id": "2662d0dc-d219-499e-91cc-5dbb7158872e",
   "metadata": {},
   "outputs": [],
   "source": [
    "plt.figure(figsize=(12,6))\n",
    "order_list = ['19-30','31-40','41-50','51-60','61-70','Greater Than 70']\n",
    "p = sns.countplot(df['age_group'], hue=df['Income'], palette='hsv', order=order_list)\n",
    "plt.title('Income of Individuals of Different Age Groups', fontsize=22, fontweight='bold')\n",
    "p.set_xlabel('Age Groups')\n",
    "plt.xticks(fontsize=16,fontweight ='bold')\n",
    "plt.yticks(fontsize=16,fontweight ='bold')\n",
    "plt.legend(fontsize=16)\n",
    "plt.show()\n"
   ]
  },
  {
   "cell_type": "code",
   "execution_count": null,
   "id": "d34a1fb4-492e-44d0-8472-a5859dc1e1d3",
   "metadata": {},
   "outputs": [],
   "source": [
    "ax= sns.FacetGrid(df,col='Income')\n",
    "ax.map(sns.distplot,'Age')\n",
    "plt.show()"
   ]
  },
  {
   "cell_type": "code",
   "execution_count": null,
   "id": "b67df247-4870-4101-9260-cec1bdc7345d",
   "metadata": {},
   "outputs": [],
   "source": [
    "plt.rcParams[\"figure.autolayout\"] = True\n",
    "sns.set_palette('rainbow')\n",
    "plt.figure(figsize=(10,10))\n",
    "df['Workclass'].value_counts().plot.pie(explode=[0,0.1,0.125,0.175,0.225,0.25,0.3,0.7],autopct='%2.1f%%',\n",
    "                                          textprops ={ 'fontsize':13}, shadow=True)\n",
    "plt.title('Population distribution as per Workclass', fontsize=20,fontweight ='bold')\n",
    "plt.tight_layout()\n",
    "plt.show()"
   ]
  },
  {
   "cell_type": "code",
   "execution_count": null,
   "id": "175148e7-4474-4627-a611-108667249605",
   "metadata": {},
   "outputs": [],
   "source": [
    "plt.figure(figsize=(14,9))\n",
    "p = sns.countplot(df['Workclass'], hue=df['Income'], palette='hsv')\n",
    "plt.title('Income distribution as per Workclass', fontsize=22, fontweight='bold')\n",
    "p.set_xlabel('Workclass',fontsize=18,fontweight ='bold')\n",
    "plt.xticks(fontsize=16,fontweight ='bold',rotation=30)\n",
    "plt.yticks(fontsize=16,fontweight ='bold')\n",
    "plt.legend(fontsize=16)\n",
    "plt.show()"
   ]
  }
 ],
 "metadata": {
  "kernelspec": {
   "display_name": "Python 3 (ipykernel)",
   "language": "python",
   "name": "python3"
  },
  "language_info": {
   "codemirror_mode": {
    "name": "ipython",
    "version": 3
   },
   "file_extension": ".py",
   "mimetype": "text/x-python",
   "name": "python",
   "nbconvert_exporter": "python",
   "pygments_lexer": "ipython3",
   "version": "3.11.7"
  }
 },
 "nbformat": 4,
 "nbformat_minor": 5
}
